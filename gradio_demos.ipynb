{
  "nbformat": 4,
  "nbformat_minor": 0,
  "metadata": {
    "colab": {
      "provenance": [],
      "gpuType": "T4",
      "authorship_tag": "ABX9TyPqFfJMGSbP8pigxzSjVpdx",
      "include_colab_link": true
    },
    "kernelspec": {
      "name": "python3",
      "display_name": "Python 3"
    },
    "language_info": {
      "name": "python"
    },
    "accelerator": "GPU"
  },
  "cells": [
    {
      "cell_type": "markdown",
      "metadata": {
        "id": "view-in-github",
        "colab_type": "text"
      },
      "source": [
        "<a href=\"https://colab.research.google.com/github/timroelofs123/ASR_Speaker_Recognition/blob/main/gradio_demos.ipynb\" target=\"_parent\"><img src=\"https://colab.research.google.com/assets/colab-badge.svg\" alt=\"Open In Colab\"/></a>"
      ]
    },
    {
      "cell_type": "markdown",
      "source": [
        "# Face Re-Aging Demos with Gradio\n",
        "To try out the Gradio Demos using Google Colab, run the cells below.\n",
        "Be sure to select a runtime with GPU (e.g. `Runtime > Change Runtime Type > T4 (GPU)`) to make the model run fast.\n",
        "\n",
        "You can choose to either run the regular inference demo or the video demo. The demo will open in a new tab."
      ],
      "metadata": {
        "id": "8UPyx2FOi0bW"
      }
    },
    {
      "cell_type": "markdown",
      "source": [
        "## Downloading files and model"
      ],
      "metadata": {
        "id": "V63jr7pmWMKX"
      }
    },
    {
      "cell_type": "code",
      "execution_count": null,
      "metadata": {
        "id": "Fl-OWpFqVLad"
      },
      "outputs": [],
      "source": [
        "!git clone https://github.com/timroelofs123/face_reaging"
      ]
    },
    {
      "cell_type": "code",
      "source": [
        "!git clone https://huggingface.co/timroelofs123/face_re-aging"
      ],
      "metadata": {
        "id": "ljqHF5EJWGoO"
      },
      "execution_count": null,
      "outputs": []
    },
    {
      "cell_type": "code",
      "source": [
        "%mv face_re-aging/best_unet_model.pth face_reaging/\n",
        "%cd face_reaging/"
      ],
      "metadata": {
        "id": "Vawn2UimWajy"
      },
      "execution_count": null,
      "outputs": []
    },
    {
      "cell_type": "markdown",
      "source": [
        "## Installing requirements"
      ],
      "metadata": {
        "id": "OezK6WkeWz2G"
      }
    },
    {
      "cell_type": "code",
      "source": [
        "%pip install gradio face_recognition antialiased_cnns kaleido --quiet"
      ],
      "metadata": {
        "id": "U29EGu-tW69J"
      },
      "execution_count": null,
      "outputs": []
    },
    {
      "cell_type": "markdown",
      "source": [
        "## Running demo"
      ],
      "metadata": {
        "id": "W1uWzCNyXafL"
      }
    },
    {
      "cell_type": "markdown",
      "source": [
        "Re-age your photo or video with the three demos."
      ],
      "metadata": {
        "id": "BTQxJNr2ipm_"
      }
    },
    {
      "cell_type": "code",
      "source": [
        "!python scripts/gradio_demo.py --model_path 'best_unet_model.pth'"
      ],
      "metadata": {
        "id": "izknf3I1XcyU"
      },
      "execution_count": null,
      "outputs": []
    }
  ]
}